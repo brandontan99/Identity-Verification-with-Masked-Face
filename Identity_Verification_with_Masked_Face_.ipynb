{
  "nbformat": 4,
  "nbformat_minor": 0,
  "metadata": {
    "kernelspec": {
      "display_name": "Python 3",
      "language": "python",
      "name": "python3"
    },
    "language_info": {
      "codemirror_mode": {
        "name": "ipython",
        "version": 3
      },
      "file_extension": ".py",
      "mimetype": "text/x-python",
      "name": "python",
      "nbconvert_exporter": "python",
      "pygments_lexer": "ipython3",
      "version": "3.7.3"
    },
    "colab": {
      "name": "Identity Verification with Masked Face .ipynb",
      "provenance": [],
      "include_colab_link": true
    },
    "accelerator": "GPU"
  },
  "cells": [
    {
      "cell_type": "markdown",
      "metadata": {
        "id": "view-in-github",
        "colab_type": "text"
      },
      "source": [
        "<a href=\"https://colab.research.google.com/github/brandontan99/Identity-Verification-with-Masked-Face/blob/master/Identity_Verification_with_Masked_Face_.ipynb\" target=\"_parent\"><img src=\"https://colab.research.google.com/assets/colab-badge.svg\" alt=\"Open In Colab\"/></a>"
      ]
    },
    {
      "cell_type": "markdown",
      "metadata": {
        "id": "6qTHfcpEhyZx"
      },
      "source": [
        "# Import Libraries"
      ]
    },
    {
      "cell_type": "code",
      "metadata": {
        "colab": {
          "base_uri": "https://localhost:8080/"
        },
        "id": "9McYd9TCd1AF",
        "outputId": "8aec17c2-1671-4e56-b584-521e5e42e5e2"
      },
      "source": [
        "from google.colab import drive\n",
        "drive.mount('/content/drive', force_remount=True)"
      ],
      "execution_count": 1,
      "outputs": [
        {
          "output_type": "stream",
          "text": [
            "Mounted at /content/drive\n"
          ],
          "name": "stdout"
        }
      ]
    },
    {
      "cell_type": "code",
      "metadata": {
        "id": "4UeS42R_hP-6"
      },
      "source": [
        "!gdown --id 1UlOk6EtiaXTHylRUx2mySgvJX9ycoeBp\n",
        "!unzip RMFD.zip"
      ],
      "execution_count": null,
      "outputs": []
    },
    {
      "cell_type": "code",
      "metadata": {
        "id": "mgWhKAe5XCWV",
        "colab": {
          "base_uri": "https://localhost:8080/"
        },
        "outputId": "a07863c3-d9cb-49c1-91f7-e8174879de56"
      },
      "source": [
        "!pip install facenet-pytorch\n",
        "from facenet_pytorch import MTCNN, InceptionResnetV1, fixed_image_standardization, training\n",
        "import torch\n",
        "from torch.utils.data import DataLoader, SubsetRandomSampler, Dataset\n",
        "from torch import optim\n",
        "from torch.optim.lr_scheduler import MultiStepLR\n",
        "from torch.utils.tensorboard import SummaryWriter\n",
        "from torchvision import datasets, transforms\n",
        "import numpy as np\n",
        "import pandas as pd\n",
        "from tqdm import tqdm\n",
        "import cv2\n",
        "import os\n",
        "from sklearn.model_selection import train_test_split\n",
        "from sklearn.preprocessing import LabelEncoder\n",
        "import matplotlib.pyplot as plt\n",
        "from scipy.spatial.distance import cosine\n",
        "from PIL import Image\n",
        "\n",
        "seed = 0\n",
        "dir_path = '/content/drive/MyDrive/Soft Computing/'\n",
        "maskDF_path = dir_path + 'mask_df.pickle'\n"
      ],
      "execution_count": 2,
      "outputs": [
        {
          "output_type": "stream",
          "text": [
            "Collecting facenet-pytorch\n",
            "\u001b[?25l  Downloading https://files.pythonhosted.org/packages/18/e8/5ea742737665ba9396a8a2be3d2e2b49a13804b56a7e7bb101e8731ade8f/facenet_pytorch-2.5.2-py3-none-any.whl (1.9MB)\n",
            "\u001b[K     |████████████████████████████████| 1.9MB 3.0MB/s \n",
            "\u001b[?25hRequirement already satisfied: torchvision in /usr/local/lib/python3.7/dist-packages (from facenet-pytorch) (0.9.1+cu101)\n",
            "Requirement already satisfied: numpy in /usr/local/lib/python3.7/dist-packages (from facenet-pytorch) (1.19.5)\n",
            "Requirement already satisfied: pillow in /usr/local/lib/python3.7/dist-packages (from facenet-pytorch) (7.1.2)\n",
            "Requirement already satisfied: requests in /usr/local/lib/python3.7/dist-packages (from facenet-pytorch) (2.23.0)\n",
            "Requirement already satisfied: torch==1.8.1 in /usr/local/lib/python3.7/dist-packages (from torchvision->facenet-pytorch) (1.8.1+cu101)\n",
            "Requirement already satisfied: idna<3,>=2.5 in /usr/local/lib/python3.7/dist-packages (from requests->facenet-pytorch) (2.10)\n",
            "Requirement already satisfied: chardet<4,>=3.0.2 in /usr/local/lib/python3.7/dist-packages (from requests->facenet-pytorch) (3.0.4)\n",
            "Requirement already satisfied: certifi>=2017.4.17 in /usr/local/lib/python3.7/dist-packages (from requests->facenet-pytorch) (2020.12.5)\n",
            "Requirement already satisfied: urllib3!=1.25.0,!=1.25.1,<1.26,>=1.21.1 in /usr/local/lib/python3.7/dist-packages (from requests->facenet-pytorch) (1.24.3)\n",
            "Requirement already satisfied: typing-extensions in /usr/local/lib/python3.7/dist-packages (from torch==1.8.1->torchvision->facenet-pytorch) (3.7.4.3)\n",
            "Installing collected packages: facenet-pytorch\n",
            "Successfully installed facenet-pytorch-2.5.2\n"
          ],
          "name": "stdout"
        }
      ]
    },
    {
      "cell_type": "markdown",
      "metadata": {
        "id": "EjhmQwxsh2G4"
      },
      "source": [
        "# Data Preparation"
      ]
    },
    {
      "cell_type": "code",
      "metadata": {
        "id": "c0kIivTci5GP"
      },
      "source": [
        "# create a dataframe with columns (image_path (str), mask (bool), person (str))\n",
        "# save the dataframe into a pickle file\n",
        "datasetPath = '/content/self-built-masked-face-recognition-dataset/'\n",
        "maskPath = datasetPath + 'AFDB_masked_face_dataset/'\n",
        "nonMaskPath = datasetPath + 'AFDB_face_dataset/'\n",
        "\n",
        "maskDF = pd.DataFrame()\n",
        "\n",
        "for subject in tqdm(os.listdir(nonMaskPath), desc='non mask photos'):\n",
        "    for imgPath in os.listdir(nonMaskPath+subject):\n",
        "        full_image_path = nonMaskPath+subject+\"/\"+imgPath\n",
        "        maskDF = maskDF.append({\n",
        "            'image_path': full_image_path,\n",
        "            'mask': 0,\n",
        "            'person': subject\n",
        "        }, ignore_index=True)\n",
        "\n",
        "for subject in tqdm(os.listdir(maskPath), desc='mask photos'):\n",
        "    for imgPath in os.listdir(maskPath+subject):\n",
        "        full_image_path = maskPath+subject+\"/\"+imgPath\n",
        "        maskDF = maskDF.append({\n",
        "            'image_path': full_image_path,\n",
        "            'mask': 1,\n",
        "            'person': subject\n",
        "        }, ignore_index=True)\n",
        "\n",
        "maskDF.to_pickle(maskDF_path)\n",
        "maskDF"
      ],
      "execution_count": null,
      "outputs": []
    },
    {
      "cell_type": "code",
      "metadata": {
        "id": "jwWmo-o9XCWW",
        "colab": {
          "base_uri": "https://localhost:8080/",
          "height": 402
        },
        "outputId": "602e057d-d99c-4003-86a9-66ae2801e4bb"
      },
      "source": [
        "# load the dataframe from the pickle file saved in the previous cell\n",
        "maskDF = pd.read_pickle(maskDF_path)\n",
        "# apply label encoding to the \"person\" column for numerical processing\n",
        "maskDF[\"person_encoded\"] = maskDF[\"person\"].to_frame().apply(LabelEncoder().fit_transform)\n",
        "batch_size = 128\n",
        "epochs = 8\n",
        "workers = 0 if os.name == 'nt' else 8\n",
        "maskDF"
      ],
      "execution_count": 46,
      "outputs": [
        {
          "output_type": "execute_result",
          "data": {
            "text/html": [
              "<div>\n",
              "<style scoped>\n",
              "    .dataframe tbody tr th:only-of-type {\n",
              "        vertical-align: middle;\n",
              "    }\n",
              "\n",
              "    .dataframe tbody tr th {\n",
              "        vertical-align: top;\n",
              "    }\n",
              "\n",
              "    .dataframe thead th {\n",
              "        text-align: right;\n",
              "    }\n",
              "</style>\n",
              "<table border=\"1\" class=\"dataframe\">\n",
              "  <thead>\n",
              "    <tr style=\"text-align: right;\">\n",
              "      <th></th>\n",
              "      <th>image_path</th>\n",
              "      <th>mask</th>\n",
              "      <th>person</th>\n",
              "      <th>person_encoded</th>\n",
              "    </tr>\n",
              "  </thead>\n",
              "  <tbody>\n",
              "    <tr>\n",
              "      <th>0</th>\n",
              "      <td>/content/self-built-masked-face-recognition-da...</td>\n",
              "      <td>0.0</td>\n",
              "      <td>maqiguang</td>\n",
              "      <td>249</td>\n",
              "    </tr>\n",
              "    <tr>\n",
              "      <th>1</th>\n",
              "      <td>/content/self-built-masked-face-recognition-da...</td>\n",
              "      <td>0.0</td>\n",
              "      <td>maqiguang</td>\n",
              "      <td>249</td>\n",
              "    </tr>\n",
              "    <tr>\n",
              "      <th>2</th>\n",
              "      <td>/content/self-built-masked-face-recognition-da...</td>\n",
              "      <td>0.0</td>\n",
              "      <td>maqiguang</td>\n",
              "      <td>249</td>\n",
              "    </tr>\n",
              "    <tr>\n",
              "      <th>3</th>\n",
              "      <td>/content/self-built-masked-face-recognition-da...</td>\n",
              "      <td>0.0</td>\n",
              "      <td>maqiguang</td>\n",
              "      <td>249</td>\n",
              "    </tr>\n",
              "    <tr>\n",
              "      <th>4</th>\n",
              "      <td>/content/self-built-masked-face-recognition-da...</td>\n",
              "      <td>0.0</td>\n",
              "      <td>maqiguang</td>\n",
              "      <td>249</td>\n",
              "    </tr>\n",
              "    <tr>\n",
              "      <th>...</th>\n",
              "      <td>...</td>\n",
              "      <td>...</td>\n",
              "      <td>...</td>\n",
              "      <td>...</td>\n",
              "    </tr>\n",
              "    <tr>\n",
              "      <th>92666</th>\n",
              "      <td>/content/self-built-masked-face-recognition-da...</td>\n",
              "      <td>1.0</td>\n",
              "      <td>zoushiming</td>\n",
              "      <td>536</td>\n",
              "    </tr>\n",
              "    <tr>\n",
              "      <th>92667</th>\n",
              "      <td>/content/self-built-masked-face-recognition-da...</td>\n",
              "      <td>1.0</td>\n",
              "      <td>zoushiming</td>\n",
              "      <td>536</td>\n",
              "    </tr>\n",
              "    <tr>\n",
              "      <th>92668</th>\n",
              "      <td>/content/self-built-masked-face-recognition-da...</td>\n",
              "      <td>1.0</td>\n",
              "      <td>xuzheng</td>\n",
              "      <td>422</td>\n",
              "    </tr>\n",
              "    <tr>\n",
              "      <th>92669</th>\n",
              "      <td>/content/self-built-masked-face-recognition-da...</td>\n",
              "      <td>1.0</td>\n",
              "      <td>zhouxingchi</td>\n",
              "      <td>526</td>\n",
              "    </tr>\n",
              "    <tr>\n",
              "      <th>92670</th>\n",
              "      <td>/content/self-built-masked-face-recognition-da...</td>\n",
              "      <td>1.0</td>\n",
              "      <td>zhouxingchi</td>\n",
              "      <td>526</td>\n",
              "    </tr>\n",
              "  </tbody>\n",
              "</table>\n",
              "<p>92671 rows × 4 columns</p>\n",
              "</div>"
            ],
            "text/plain": [
              "                                              image_path  ...  person_encoded\n",
              "0      /content/self-built-masked-face-recognition-da...  ...             249\n",
              "1      /content/self-built-masked-face-recognition-da...  ...             249\n",
              "2      /content/self-built-masked-face-recognition-da...  ...             249\n",
              "3      /content/self-built-masked-face-recognition-da...  ...             249\n",
              "4      /content/self-built-masked-face-recognition-da...  ...             249\n",
              "...                                                  ...  ...             ...\n",
              "92666  /content/self-built-masked-face-recognition-da...  ...             536\n",
              "92667  /content/self-built-masked-face-recognition-da...  ...             536\n",
              "92668  /content/self-built-masked-face-recognition-da...  ...             422\n",
              "92669  /content/self-built-masked-face-recognition-da...  ...             526\n",
              "92670  /content/self-built-masked-face-recognition-da...  ...             526\n",
              "\n",
              "[92671 rows x 4 columns]"
            ]
          },
          "metadata": {
            "tags": []
          },
          "execution_count": 46
        }
      ]
    },
    {
      "cell_type": "code",
      "metadata": {
        "id": "m2vJ-4X5XCWX",
        "colab": {
          "base_uri": "https://localhost:8080/"
        },
        "outputId": "b5031ee3-6468-40c4-83f9-d75ed537b945"
      },
      "source": [
        "# Determine if an nvidia GPU is available\n",
        "device = torch.device('cuda:0' if torch.cuda.is_available() else 'cpu')\n",
        "print('Running on device: {}'.format(device))"
      ],
      "execution_count": 47,
      "outputs": [
        {
          "output_type": "stream",
          "text": [
            "Running on device: cuda:0\n"
          ],
          "name": "stdout"
        }
      ]
    },
    {
      "cell_type": "code",
      "metadata": {
        "id": "f68JAFvPL3tk"
      },
      "source": [
        "# define the dataset class\n",
        "class RMFDataset(Dataset):\n",
        "    def __init__(self, dataFrame, mtcnn = None):\n",
        "        self.dataFrame = dataFrame\n",
        "        self.num_of_classes = dataFrame[\"person_encoded\"].max()+1\n",
        "        self.transformations = transforms.Compose([\n",
        "            transforms.ToPILImage(),\n",
        "            transforms.Resize((100, 100)),\n",
        "            transforms.ToTensor()\n",
        "        ])\n",
        "        self.mtcnn = mtcnn\n",
        "    \n",
        "    def __getitem__(self, key):\n",
        "        row = self.dataFrame.iloc[key]\n",
        "        image = np.array(Image.open(row['image_path']).convert('RGB'))\n",
        "\n",
        "        if self.mtcnn:\n",
        "          # to detect and crop the face image\n",
        "          image = self.mtcnn(image)\n",
        "\n",
        "        return self.transformations(image), torch.tensor(row[\"person_encoded\"], dtype=int)\n",
        "    \n",
        "    def __len__(self):\n",
        "        return len(self.dataFrame.index)"
      ],
      "execution_count": 48,
      "outputs": []
    },
    {
      "cell_type": "code",
      "metadata": {
        "scrolled": true,
        "id": "i17AccmoXCWZ"
      },
      "source": [
        "dataset = RMFDataset(maskDF)"
      ],
      "execution_count": 49,
      "outputs": []
    },
    {
      "cell_type": "markdown",
      "metadata": {
        "id": "xc49xzTFiGdp"
      },
      "source": [
        "# Define Model and Hyperparameters"
      ]
    },
    {
      "cell_type": "code",
      "metadata": {
        "id": "YfLG4E7yXCWZ"
      },
      "source": [
        "resnet = InceptionResnetV1(\n",
        "    classify=True,\n",
        "    pretrained='vggface2',\n",
        "    num_classes=dataset.num_of_classes\n",
        ").to(device)"
      ],
      "execution_count": 50,
      "outputs": []
    },
    {
      "cell_type": "markdown",
      "metadata": {
        "id": "tFsuN31aiQfA"
      },
      "source": [
        "### Define Optimizer and Data Loader"
      ]
    },
    {
      "cell_type": "code",
      "metadata": {
        "id": "7wJOLpXyXCWa",
        "colab": {
          "base_uri": "https://localhost:8080/"
        },
        "outputId": "fe454c89-62af-4b04-cc1f-627060b9f85b"
      },
      "source": [
        "optimizer = optim.Adam(resnet.parameters(), lr=0.001)\n",
        "scheduler = MultiStepLR(optimizer, [5, 10])\n",
        "\n",
        "img_inds = np.arange(len(dataset))\n",
        "np.random.shuffle(img_inds)\n",
        "train_size = int(0.8 * len(img_inds))\n",
        "train_inds = img_inds[:train_size]\n",
        "test_inds = img_inds[train_size:]\n",
        "print(\"Number of train set:\", train_size)\n",
        "print(\"Number of test set:\", len(img_inds) - train_size)\n",
        "    \n",
        "train_loader = DataLoader(\n",
        "    dataset,\n",
        "    num_workers=workers,\n",
        "    batch_size=batch_size,\n",
        "    sampler=SubsetRandomSampler(train_inds)\n",
        ")\n",
        "test_loader = DataLoader(\n",
        "    dataset,\n",
        "    num_workers=workers,\n",
        "    batch_size=batch_size,\n",
        "    sampler=SubsetRandomSampler(test_inds)\n",
        ")"
      ],
      "execution_count": 51,
      "outputs": [
        {
          "output_type": "stream",
          "text": [
            "Number of train set: 74136\n",
            "Number of test set: 18535\n"
          ],
          "name": "stdout"
        },
        {
          "output_type": "stream",
          "text": [
            "/usr/local/lib/python3.7/dist-packages/torch/utils/data/dataloader.py:477: UserWarning: This DataLoader will create 8 worker processes in total. Our suggested max number of worker in current system is 2, which is smaller than what this DataLoader is going to create. Please be aware that excessive worker creation might get DataLoader running slow or even freeze, lower the worker number to avoid potential slowness/freeze if necessary.\n",
            "  cpuset_checked))\n"
          ],
          "name": "stderr"
        }
      ]
    },
    {
      "cell_type": "code",
      "metadata": {
        "id": "9jf1qW8GQxWo",
        "colab": {
          "base_uri": "https://localhost:8080/",
          "height": 338
        },
        "outputId": "5e271603-872a-48d8-ad2c-94e183fc3d43"
      },
      "source": [
        "# to checkout one of the face images in the dataset\n",
        "img = next(iter(train_loader))[0][0]\n",
        "plt.imshow(np.transpose(img, (1, 2, 0)), interpolation='nearest')"
      ],
      "execution_count": 35,
      "outputs": [
        {
          "output_type": "stream",
          "text": [
            "/usr/local/lib/python3.7/dist-packages/torch/utils/data/dataloader.py:477: UserWarning: This DataLoader will create 8 worker processes in total. Our suggested max number of worker in current system is 2, which is smaller than what this DataLoader is going to create. Please be aware that excessive worker creation might get DataLoader running slow or even freeze, lower the worker number to avoid potential slowness/freeze if necessary.\n",
            "  cpuset_checked))\n"
          ],
          "name": "stderr"
        },
        {
          "output_type": "execute_result",
          "data": {
            "text/plain": [
              "<matplotlib.image.AxesImage at 0x7f13db469f50>"
            ]
          },
          "metadata": {
            "tags": []
          },
          "execution_count": 35
        },
        {
          "output_type": "display_data",
          "data": {
            "image/png": "[encoded data removed]",
            "text/plain": [
              "<Figure size 432x288 with 1 Axes>"
            ]
          },
          "metadata": {
            "tags": [],
            "needs_background": "light"
          }
        }
      ]
    },
    {
      "cell_type": "markdown",
      "metadata": {
        "id": "-OQkEh8tXCWb"
      },
      "source": [
        "### Define loss and evaluation metric"
      ]
    },
    {
      "cell_type": "code",
      "metadata": {
        "id": "6kgW5R1FXCWb"
      },
      "source": [
        "loss_fn = torch.nn.CrossEntropyLoss()\n",
        "metrics = {\n",
        "    'fps': training.BatchTimer(),\n",
        "    'acc': training.accuracy\n",
        "}"
      ],
      "execution_count": 52,
      "outputs": []
    },
    {
      "cell_type": "markdown",
      "metadata": {
        "id": "QMqk_wCEXCWc"
      },
      "source": [
        "# Training"
      ]
    },
    {
      "cell_type": "code",
      "metadata": {
        "id": "WsdCJfGsXCWc",
        "colab": {
          "base_uri": "https://localhost:8080/"
        },
        "outputId": "b4f507df-9982-45b1-fc4a-70ba5252d11d"
      },
      "source": [
        "writer = SummaryWriter()\n",
        "writer.iteration, writer.interval = 0, 10\n",
        "\n",
        "print('\\n\\nInitial')\n",
        "print('-' * 10)\n",
        "resnet.eval()\n",
        "training.pass_epoch(\n",
        "    resnet, loss_fn, test_loader,\n",
        "    batch_metrics=metrics, show_running=True, device=device,\n",
        "    writer=writer\n",
        ")\n",
        "\n",
        "for epoch in range(epochs):\n",
        "    print('\\nEpoch {}/{}'.format(epoch + 1, epochs))\n",
        "    print('-' * 10)\n",
        "\n",
        "    resnet.train()\n",
        "    training.pass_epoch(\n",
        "        resnet, loss_fn, train_loader, optimizer, scheduler,\n",
        "        batch_metrics=metrics, show_running=True, device=device,\n",
        "        writer=writer\n",
        "    )\n",
        "\n",
        "    resnet.eval()\n",
        "    training.pass_epoch(\n",
        "        resnet, loss_fn, test_loader,\n",
        "        batch_metrics=metrics, show_running=True, device=device,\n",
        "        writer=writer\n",
        "    )\n",
        "\n",
        "writer.close()"
      ],
      "execution_count": 53,
      "outputs": [
        {
          "output_type": "stream",
          "text": [
            "\n",
            "\n",
            "Initial\n",
            "----------\n"
          ],
          "name": "stdout"
        },
        {
          "output_type": "stream",
          "text": [
            "/usr/local/lib/python3.7/dist-packages/torch/utils/data/dataloader.py:477: UserWarning: This DataLoader will create 8 worker processes in total. Our suggested max number of worker in current system is 2, which is smaller than what this DataLoader is going to create. Please be aware that excessive worker creation might get DataLoader running slow or even freeze, lower the worker number to avoid potential slowness/freeze if necessary.\n",
            "  cpuset_checked))\n"
          ],
          "name": "stderr"
        },
        {
          "output_type": "stream",
          "text": [
            "Valid |   145/145  | loss:    7.9625 | fps:  715.1898 | acc:    0.0012   \n",
            "\n",
            "Epoch 1/8\n",
            "----------\n",
            "Train |   580/580  | loss:    3.6131 | fps:  217.5002 | acc:    0.2507   \n",
            "Valid |   145/145  | loss:    2.4461 | fps:  702.1687 | acc:    0.4394   \n",
            "\n",
            "Epoch 2/8\n",
            "----------\n",
            "Train |   580/580  | loss:    1.8269 | fps:  217.8035 | acc:    0.5774   \n",
            "Valid |   145/145  | loss:    1.6466 | fps:  702.6971 | acc:    0.6251   \n",
            "\n",
            "Epoch 3/8\n",
            "----------\n",
            "Train |   580/580  | loss:    1.2486 | fps:  218.5820 | acc:    0.7041   \n",
            "Valid |   145/145  | loss:    1.5027 | fps:  714.9788 | acc:    0.6627   \n",
            "\n",
            "Epoch 4/8\n",
            "----------\n",
            "Train |   580/580  | loss:    0.9052 | fps:  218.3185 | acc:    0.7821   \n",
            "Valid |   145/145  | loss:    1.3902 | fps:  715.6150 | acc:    0.6963   \n",
            "\n",
            "Epoch 5/8\n",
            "----------\n",
            "Train |   580/580  | loss:    0.6745 | fps:  218.4949 | acc:    0.8317   \n",
            "Valid |   145/145  | loss:    1.3868 | fps:  709.5382 | acc:    0.7011   \n",
            "\n",
            "Epoch 6/8\n",
            "----------\n",
            "Train |   580/580  | loss:    0.2730 | fps:  218.3511 | acc:    0.9351   \n",
            "Valid |   145/145  | loss:    0.9802 | fps:  713.8760 | acc:    0.7985   \n",
            "\n",
            "Epoch 7/8\n",
            "----------\n",
            "Train |   580/580  | loss:    0.1531 | fps:  218.1249 | acc:    0.9675   \n",
            "Valid |   145/145  | loss:    0.9669 | fps:  716.8688 | acc:    0.8048   \n",
            "\n",
            "Epoch 8/8\n",
            "----------\n",
            "Train |   580/580  | loss:    0.1030 | fps:  218.6174 | acc:    0.9798   \n",
            "Valid |   145/145  | loss:    0.9964 | fps:  716.1025 | acc:    0.8030   \n"
          ],
          "name": "stdout"
        }
      ]
    },
    {
      "cell_type": "markdown",
      "metadata": {
        "id": "oGuBUOC0iYcw"
      },
      "source": [
        "# Save Model"
      ]
    },
    {
      "cell_type": "code",
      "metadata": {
        "id": "lth-bj_dbrlc"
      },
      "source": [
        "# save the model weights\n",
        "model_save_name = dir_path + 'soft_com.pt'\n",
        "torch.save(resnet.state_dict(), model_save_name)"
      ],
      "execution_count": 54,
      "outputs": []
    },
    {
      "cell_type": "markdown",
      "metadata": {
        "id": "K92BoYUuiaFe"
      },
      "source": [
        "# Load Model"
      ]
    },
    {
      "cell_type": "code",
      "metadata": {
        "id": "s42o7nNZbtgA"
      },
      "source": [
        "# load the model weights\n",
        "resnet= InceptionResnetV1(\n",
        "    classify=True,\n",
        "    num_classes=dataset.num_of_classes\n",
        ").to(device)\n",
        "model_save_name = dir_path + 'soft_com.pt'\n",
        "resnet.load_state_dict(torch.load(model_save_name, map_location=device))\n",
        "resnet.classify = False"
      ],
      "execution_count": 57,
      "outputs": []
    },
    {
      "cell_type": "markdown",
      "metadata": {
        "id": "BXpTfrZBu-di"
      },
      "source": [
        "# Evaluation"
      ]
    },
    {
      "cell_type": "markdown",
      "metadata": {
        "id": "DCBgMtfgM0KV"
      },
      "source": [
        "### Pre-Trained model to crop the face from the image"
      ]
    },
    {
      "cell_type": "code",
      "metadata": {
        "id": "F6IdXmt63zU_"
      },
      "source": [
        "mtcnn = MTCNN(\n",
        "    image_size=160, margin=0, min_face_size=20,\n",
        "    thresholds=[0.6, 0.7, 0.7], factor=0.709, post_process=True,\n",
        "    device=device\n",
        ")"
      ],
      "execution_count": 55,
      "outputs": []
    },
    {
      "cell_type": "markdown",
      "metadata": {
        "id": "UEREnnQ4FOTj"
      },
      "source": [
        "### Croppped Unmasked Passport Image"
      ]
    },
    {
      "cell_type": "code",
      "metadata": {
        "colab": {
          "base_uri": "https://localhost:8080/",
          "height": 302
        },
        "id": "LEwOmsvA4qS5",
        "outputId": "e3be4c00-7c8b-4f04-ed0d-d1792f96d218"
      },
      "source": [
        "img = cv2.imread(dir_path + \"Brandon Tan Zhirong.jpg\")\n",
        "img[:, :, [0, 2]] = img[:, :, [2, 0]]\n",
        "plt.imshow(np.transpose(mtcnn(img), (1, 2, 0)), interpolation='nearest')"
      ],
      "execution_count": 56,
      "outputs": [
        {
          "output_type": "stream",
          "text": [
            "Clipping input data to the valid range for imshow with RGB data ([0..1] for floats or [0..255] for integers).\n"
          ],
          "name": "stderr"
        },
        {
          "output_type": "execute_result",
          "data": {
            "text/plain": [
              "<matplotlib.image.AxesImage at 0x7f1498de2d50>"
            ]
          },
          "metadata": {
            "tags": []
          },
          "execution_count": 56
        },
        {
          "output_type": "display_data",
          "data": {
            "image/png": "[encoded data removed]",
            "text/plain": [
              "<Figure size 432x288 with 1 Axes>"
            ]
          },
          "metadata": {
            "tags": [],
            "needs_background": "light"
          }
        }
      ]
    },
    {
      "cell_type": "markdown",
      "metadata": {
        "id": "yFCi_VaPFU_p"
      },
      "source": [
        "### Croppped Masked Passport Image"
      ]
    },
    {
      "cell_type": "code",
      "metadata": {
        "colab": {
          "base_uri": "https://localhost:8080/",
          "height": 302
        },
        "id": "Vdu8QQRp357A",
        "outputId": "d3273739-2872-4b4b-eeda-cf41b10ac0f9"
      },
      "source": [
        "img = cv2.imread(dir_path + \"Brandon Tan Zhirong (masked).png\")\n",
        "img[:, :, [0, 2]] = img[:, :, [2, 0]]\n",
        "plt.imshow(np.transpose(mtcnn(img), (1, 2, 0)), interpolation='nearest')"
      ],
      "execution_count": 58,
      "outputs": [
        {
          "output_type": "stream",
          "text": [
            "Clipping input data to the valid range for imshow with RGB data ([0..1] for floats or [0..255] for integers).\n"
          ],
          "name": "stderr"
        },
        {
          "output_type": "execute_result",
          "data": {
            "text/plain": [
              "<matplotlib.image.AxesImage at 0x7f13d5ffc310>"
            ]
          },
          "metadata": {
            "tags": []
          },
          "execution_count": 58
        },
        {
          "output_type": "display_data",
          "data": {
            "image/png": "[encoded data removed]",
            "text/plain": [
              "<Figure size 432x288 with 1 Axes>"
            ]
          },
          "metadata": {
            "tags": [],
            "needs_background": "light"
          }
        }
      ]
    },
    {
      "cell_type": "markdown",
      "metadata": {
        "id": "H_-6yFFcNhmr"
      },
      "source": [
        "### Define the Data Loader"
      ]
    },
    {
      "cell_type": "code",
      "metadata": {
        "id": "gG7Rc6aR1cBW"
      },
      "source": [
        "test_maskDF = pd.DataFrame()\n",
        "test_maskDF = test_maskDF.append({\n",
        "            'image_path': dir_path + \"Brandon Tan Zhirong.jpg\",\n",
        "            'mask': 0,\n",
        "            'person_encoded': 1\n",
        "        }, ignore_index=True)\n",
        "test_maskDF = test_maskDF.append({\n",
        "            'image_path': dir_path + \"Brandon Tan Zhirong (masked).png\",\n",
        "            'mask': 1,\n",
        "            'person_encoded': 1\n",
        "        }, ignore_index=True)"
      ],
      "execution_count": 59,
      "outputs": []
    },
    {
      "cell_type": "code",
      "metadata": {
        "id": "XWsyKdbs1bQS"
      },
      "source": [
        "test_dataset = RMFDataset(test_maskDF, mtcnn = mtcnn)\n",
        "test_loader = DataLoader(\n",
        "    test_dataset,\n",
        "    num_workers=0,\n",
        "    batch_size= 1\n",
        ")"
      ],
      "execution_count": 60,
      "outputs": []
    },
    {
      "cell_type": "markdown",
      "metadata": {
        "id": "fenDkVEcNkmI"
      },
      "source": [
        "### Evaluate My Passport Photos"
      ]
    },
    {
      "cell_type": "code",
      "metadata": {
        "id": "07u4Iy09vEBc"
      },
      "source": [
        "results = []\n",
        "resnet.eval()\n",
        "for img, person in test_loader:\n",
        "  img = img.to(device)\n",
        "  result = resnet(img)\n",
        "  results.append(result.cpu().detach().numpy())"
      ],
      "execution_count": 61,
      "outputs": []
    },
    {
      "cell_type": "markdown",
      "metadata": {
        "id": "jdo1xHoQNZF-"
      },
      "source": [
        "### **[Cosine Similarity]** Check the similiary between unmasked and masked image of my passport photo"
      ]
    },
    {
      "cell_type": "code",
      "metadata": {
        "id": "4INm9mP3vuYc",
        "colab": {
          "base_uri": "https://localhost:8080/"
        },
        "outputId": "45fd285e-c6ee-4529-bc73-cf5fdc2c04b5"
      },
      "source": [
        "similarity = 1 - cosine(results[0],results[1])\n",
        "print(\"The similarity between unmasked and masked image is\", round(similarity*100,2),\"%\")"
      ],
      "execution_count": 62,
      "outputs": [
        {
          "output_type": "stream",
          "text": [
            "The similarity between unmasked and masked image is 71.1 %\n"
          ],
          "name": "stdout"
        }
      ]
    }
  ]
}